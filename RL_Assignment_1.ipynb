{
  "nbformat": 4,
  "nbformat_minor": 0,
  "metadata": {
    "colab": {
      "provenance": [],
      "authorship_tag": "ABX9TyP7Q0yLjy0o7lDBoqaqfp6M",
      "include_colab_link": true
    },
    "kernelspec": {
      "name": "python3",
      "display_name": "Python 3"
    },
    "language_info": {
      "name": "python"
    }
  },
  "cells": [
    {
      "cell_type": "markdown",
      "metadata": {
        "id": "view-in-github",
        "colab_type": "text"
      },
      "source": [
        "<a href=\"https://colab.research.google.com/github/Jupiter345/DSBA-RL-Flappy-Bird/blob/main/RL_Assignment_1.ipynb\" target=\"_parent\"><img src=\"https://colab.research.google.com/assets/colab-badge.svg\" alt=\"Open In Colab\"/></a>"
      ]
    },
    {
      "cell_type": "code",
      "execution_count": 16,
      "metadata": {
        "colab": {
          "base_uri": "https://localhost:8080/"
        },
        "id": "PVA2LoThIEaY",
        "outputId": "64d1e796-aa8d-49d1-a063-b56be78de2f4"
      },
      "outputs": [
        {
          "output_type": "stream",
          "name": "stdout",
          "text": [
            "Looking in indexes: https://pypi.org/simple, https://us-python.pkg.dev/colab-wheels/public/simple/\n",
            "Collecting git+https://gitlab-research.centralesupelec.fr/stergios.christodoulidis/text-flappy-bird-gym.git\n",
            "  Cloning https://gitlab-research.centralesupelec.fr/stergios.christodoulidis/text-flappy-bird-gym.git to /tmp/pip-req-build-y4rh4q14\n",
            "  Running command git clone --filter=blob:none --quiet https://gitlab-research.centralesupelec.fr/stergios.christodoulidis/text-flappy-bird-gym.git /tmp/pip-req-build-y4rh4q14\n",
            "  Resolved https://gitlab-research.centralesupelec.fr/stergios.christodoulidis/text-flappy-bird-gym.git to commit bdbddee93a6d59029989c32cc41748adb2724f51\n",
            "  Preparing metadata (setup.py) ... \u001b[?25l\u001b[?25hdone\n",
            "Requirement already satisfied: gymnasium==0.27.1 in /usr/local/lib/python3.9/dist-packages (from text-flappy-bird-gym==0.1.0) (0.27.1)\n",
            "Requirement already satisfied: numpy==1.24.2 in /usr/local/lib/python3.9/dist-packages (from text-flappy-bird-gym==0.1.0) (1.24.2)\n",
            "Requirement already satisfied: cloudpickle>=1.2.0 in /usr/local/lib/python3.9/dist-packages (from gymnasium==0.27.1->text-flappy-bird-gym==0.1.0) (2.2.1)\n",
            "Requirement already satisfied: jax-jumpy>=0.2.0 in /usr/local/lib/python3.9/dist-packages (from gymnasium==0.27.1->text-flappy-bird-gym==0.1.0) (0.2.0)\n",
            "Requirement already satisfied: typing-extensions>=4.3.0 in /usr/local/lib/python3.9/dist-packages (from gymnasium==0.27.1->text-flappy-bird-gym==0.1.0) (4.5.0)\n",
            "Requirement already satisfied: importlib-metadata>=4.8.0 in /usr/local/lib/python3.9/dist-packages (from gymnasium==0.27.1->text-flappy-bird-gym==0.1.0) (6.0.0)\n",
            "Requirement already satisfied: gymnasium-notices>=0.0.1 in /usr/local/lib/python3.9/dist-packages (from gymnasium==0.27.1->text-flappy-bird-gym==0.1.0) (0.0.1)\n",
            "Requirement already satisfied: zipp>=0.5 in /usr/local/lib/python3.9/dist-packages (from importlib-metadata>=4.8.0->gymnasium==0.27.1->text-flappy-bird-gym==0.1.0) (3.15.0)\n"
          ]
        }
      ],
      "source": [
        "!pip install git+https://gitlab-research.centralesupelec.fr/stergios.christodoulidis/text-flappy-bird-gym.git"
      ]
    },
    {
      "cell_type": "code",
      "source": [
        "import os, sys\n",
        "import gymnasium as gym\n",
        "import time\n",
        "import numpy as np\n",
        "\n",
        "import text_flappy_bird_gym"
      ],
      "metadata": {
        "id": "t8OX6YVMIqtx"
      },
      "execution_count": 17,
      "outputs": []
    },
    {
      "cell_type": "code",
      "source": [
        "if __name__ == '__main__':\n",
        "\n",
        "    # initiate environment\n",
        "    env = gym.make('TextFlappyBird-v0', height = 15, width = 20, pipe_gap = 4)\n",
        "    obs = env.reset()\n",
        "    num_actions = env.action_space.n\n",
        "    num_states = env.observation_space[0].n  # get the number of elements in the first element of the observation space tuple\n",
        "    q_table = np.zeros((num_states, num_actions))\n",
        "    alpha = 0.1\n",
        "    gamma = 0.9\n",
        "    epsilon = 0.1\n",
        "\n",
        "    # iterate\n",
        "    while True:\n",
        "\n",
        "      for episode in range(1000):\n",
        "          state = env.reset()\n",
        "          state = np.array([state], dtype=np.int64) \n",
        "          done = False\n",
        "          while not done:\n",
        "              #action = int(action) \n",
        "              if np.random.uniform() < epsilon:\n",
        "                  action = env.action_space.sample()\n",
        "              else:\n",
        "                  action = np.argmax(q_table[state])\n",
        "              next_state, reward, done, _ = env.step(action)\n",
        "\n",
        "              action = int(action)  # convert action to an integer\n",
        "              q_table[state, action] = (1 - alpha) * q_table[state, action] + alpha * (reward + gamma * np.max(q_table[next_state]))\n",
        "              state = next_state\n",
        "\n",
        "\n",
        "      # # Select next action\n",
        "      # action = env.action_space.sample()  # for an agent, action = agent.policy(observation)\n",
        "\n",
        "      # # Appy action and return new observation of the environment\n",
        "      # obs, reward, done, _, info = env.step(action)\n",
        "\n",
        "      # Render the game\n",
        "      os.system(\"clear\")\n",
        "      sys.stdout.write(env.render())\n",
        "      time.sleep(0.2) # FPS\n",
        "\n",
        "      # If player is dead break\n",
        "      if done:\n",
        "          break\n",
        "\n",
        "    env.close()\n"
      ],
      "metadata": {
        "colab": {
          "base_uri": "https://localhost:8080/",
          "height": 258
        },
        "id": "junwhE2dKjmo",
        "outputId": "5932da6e-bf3f-4fb4-d7ef-92ca62fb1d59"
      },
      "execution_count": 15,
      "outputs": [
        {
          "output_type": "error",
          "ename": "ValueError",
          "evalue": "ignored",
          "traceback": [
            "\u001b[0;31m---------------------------------------------------------------------------\u001b[0m",
            "\u001b[0;31mValueError\u001b[0m                                Traceback (most recent call last)",
            "\u001b[0;32m<ipython-input-15-47eb17ecfc83>\u001b[0m in \u001b[0;36m<module>\u001b[0;34m\u001b[0m\n\u001b[1;32m     16\u001b[0m       \u001b[0;32mfor\u001b[0m \u001b[0mepisode\u001b[0m \u001b[0;32min\u001b[0m \u001b[0mrange\u001b[0m\u001b[0;34m(\u001b[0m\u001b[0;36m1000\u001b[0m\u001b[0;34m)\u001b[0m\u001b[0;34m:\u001b[0m\u001b[0;34m\u001b[0m\u001b[0;34m\u001b[0m\u001b[0m\n\u001b[1;32m     17\u001b[0m           \u001b[0mstate\u001b[0m \u001b[0;34m=\u001b[0m \u001b[0menv\u001b[0m\u001b[0;34m.\u001b[0m\u001b[0mreset\u001b[0m\u001b[0;34m(\u001b[0m\u001b[0;34m)\u001b[0m\u001b[0;34m\u001b[0m\u001b[0;34m\u001b[0m\u001b[0m\n\u001b[0;32m---> 18\u001b[0;31m           \u001b[0mstate\u001b[0m \u001b[0;34m=\u001b[0m \u001b[0mnp\u001b[0m\u001b[0;34m.\u001b[0m\u001b[0marray\u001b[0m\u001b[0;34m(\u001b[0m\u001b[0;34m[\u001b[0m\u001b[0mstate\u001b[0m\u001b[0;34m]\u001b[0m\u001b[0;34m,\u001b[0m \u001b[0mdtype\u001b[0m\u001b[0;34m=\u001b[0m\u001b[0mnp\u001b[0m\u001b[0;34m.\u001b[0m\u001b[0mint64\u001b[0m\u001b[0;34m)\u001b[0m\u001b[0;34m\u001b[0m\u001b[0;34m\u001b[0m\u001b[0m\n\u001b[0m\u001b[1;32m     19\u001b[0m           \u001b[0mdone\u001b[0m \u001b[0;34m=\u001b[0m \u001b[0;32mFalse\u001b[0m\u001b[0;34m\u001b[0m\u001b[0;34m\u001b[0m\u001b[0m\n\u001b[1;32m     20\u001b[0m           \u001b[0;32mwhile\u001b[0m \u001b[0;32mnot\u001b[0m \u001b[0mdone\u001b[0m\u001b[0;34m:\u001b[0m\u001b[0;34m\u001b[0m\u001b[0;34m\u001b[0m\u001b[0m\n",
            "\u001b[0;31mValueError\u001b[0m: setting an array element with a sequence. The requested array has an inhomogeneous shape after 2 dimensions. The detected shape was (1, 2) + inhomogeneous part."
          ]
        }
      ]
    },
    {
      "cell_type": "code",
      "source": [
        "if __name__ == '__main__':\n",
        "    # initiate environment\n",
        "    env = gym.make('TextFlappyBird-v0', height=15, width=20, pipe_gap=4)\n",
        "    obs = env.reset()\n",
        "    num_actions = env.action_space.n\n",
        "    num_states = env.observation_space[0].n\n",
        "    q_table = np.zeros((num_states, num_actions))\n",
        "    alpha = 0.1\n",
        "    gamma = 0.9\n",
        "    epsilon = 0.1\n",
        "\n",
        "    # iterate\n",
        "    while True:\n",
        "        state = env.reset()\n",
        "        state = np.array([state], dtype=np.int64)\n",
        "        done = False\n",
        "\n",
        "        for episode in range(1000):\n",
        "            while not done:\n",
        "                if np.random.uniform() < epsilon:\n",
        "                    action = env.action_space.sample()\n",
        "                else:\n",
        "                    action = np.argmax(q_table[state])\n",
        "                next_state, reward, done, _ = env.step(action)\n",
        "                action = int(action)\n",
        "                q_table[state, action] = (1 - alpha) * q_table[state, action] + alpha * (reward + gamma * np.max(q_table[next_state]))\n",
        "                state = next_state\n",
        "                state = np.array([state], dtype=np.int64)\n",
        "\n",
        "        # Render the game\n",
        "        os.system(\"clear\")\n",
        "        sys.stdout.write(env.render())\n",
        "        time.sleep(0.2) # FPS\n",
        "\n",
        "        # If player is dead break\n",
        "        if done:\n",
        "            break\n",
        "\n",
        "    env.close()\n"
      ],
      "metadata": {
        "colab": {
          "base_uri": "https://localhost:8080/",
          "height": 258
        },
        "id": "ndmqg8RJT8uR",
        "outputId": "1d8c4eec-b442-4cdd-9a31-677957951783"
      },
      "execution_count": 18,
      "outputs": [
        {
          "output_type": "error",
          "ename": "ValueError",
          "evalue": "ignored",
          "traceback": [
            "\u001b[0;31m---------------------------------------------------------------------------\u001b[0m",
            "\u001b[0;31mValueError\u001b[0m                                Traceback (most recent call last)",
            "\u001b[0;32m<ipython-input-18-c8272e68a2db>\u001b[0m in \u001b[0;36m<module>\u001b[0;34m\u001b[0m\n\u001b[1;32m     13\u001b[0m     \u001b[0;32mwhile\u001b[0m \u001b[0;32mTrue\u001b[0m\u001b[0;34m:\u001b[0m\u001b[0;34m\u001b[0m\u001b[0;34m\u001b[0m\u001b[0m\n\u001b[1;32m     14\u001b[0m         \u001b[0mstate\u001b[0m \u001b[0;34m=\u001b[0m \u001b[0menv\u001b[0m\u001b[0;34m.\u001b[0m\u001b[0mreset\u001b[0m\u001b[0;34m(\u001b[0m\u001b[0;34m)\u001b[0m\u001b[0;34m\u001b[0m\u001b[0;34m\u001b[0m\u001b[0m\n\u001b[0;32m---> 15\u001b[0;31m         \u001b[0mstate\u001b[0m \u001b[0;34m=\u001b[0m \u001b[0mnp\u001b[0m\u001b[0;34m.\u001b[0m\u001b[0marray\u001b[0m\u001b[0;34m(\u001b[0m\u001b[0;34m[\u001b[0m\u001b[0mstate\u001b[0m\u001b[0;34m]\u001b[0m\u001b[0;34m,\u001b[0m \u001b[0mdtype\u001b[0m\u001b[0;34m=\u001b[0m\u001b[0mnp\u001b[0m\u001b[0;34m.\u001b[0m\u001b[0mint64\u001b[0m\u001b[0;34m)\u001b[0m\u001b[0;34m\u001b[0m\u001b[0;34m\u001b[0m\u001b[0m\n\u001b[0m\u001b[1;32m     16\u001b[0m         \u001b[0mdone\u001b[0m \u001b[0;34m=\u001b[0m \u001b[0;32mFalse\u001b[0m\u001b[0;34m\u001b[0m\u001b[0;34m\u001b[0m\u001b[0m\n\u001b[1;32m     17\u001b[0m \u001b[0;34m\u001b[0m\u001b[0m\n",
            "\u001b[0;31mValueError\u001b[0m: setting an array element with a sequence. The requested array has an inhomogeneous shape after 2 dimensions. The detected shape was (1, 2) + inhomogeneous part."
          ]
        }
      ]
    }
  ]
}